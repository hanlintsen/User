{
 "cells": [
  {
   "cell_type": "code",
   "execution_count": 24,
   "metadata": {},
   "outputs": [],
   "source": [
    "import pandas as pd\n",
    "import numpy as np\n",
    "from sklearn.linear_model import LinearRegression\n",
    "from sklearn.model_selection import LeaveOneOut\n",
    "from sklearn.metrics import mean_squared_error, r2_score\n",
    "from matplotlib import pyplot as plt\n",
    "from sklearn import metrics\n",
    "from sklearn.model_selection import cross_val_score, cross_val_predict\n"
   ]
  },
  {
   "cell_type": "code",
   "execution_count": 14,
   "metadata": {
    "scrolled": false
   },
   "outputs": [
    {
     "data": {
      "text/plain": [
       "\" I don't tink month col needs to put into the consideration, i was thining about time serires model,\\n but I don't think the training population is enough to predict another 12 months \""
      ]
     },
     "execution_count": 14,
     "metadata": {},
     "output_type": "execute_result"
    }
   ],
   "source": [
    "''' I don't tink month col needs to put into the consideration, i was thining about time serires model,\n",
    " but I don't think the training population is enough to predict another 12 months '''\n",
    "data = pd.read_csv('active_user.csv', header = 0 )\n"
   ]
  },
  {
   "cell_type": "code",
   "execution_count": 16,
   "metadata": {},
   "outputs": [
    {
     "data": {
      "text/html": [
       "<div>\n",
       "<style scoped>\n",
       "    .dataframe tbody tr th:only-of-type {\n",
       "        vertical-align: middle;\n",
       "    }\n",
       "\n",
       "    .dataframe tbody tr th {\n",
       "        vertical-align: top;\n",
       "    }\n",
       "\n",
       "    .dataframe thead th {\n",
       "        text-align: right;\n",
       "    }\n",
       "</style>\n",
       "<table border=\"1\" class=\"dataframe\">\n",
       "  <thead>\n",
       "    <tr style=\"text-align: right;\">\n",
       "      <th></th>\n",
       "      <th>Users</th>\n",
       "      <th>Pageviews</th>\n",
       "      <th>Active Users</th>\n",
       "    </tr>\n",
       "  </thead>\n",
       "  <tbody>\n",
       "    <tr>\n",
       "      <td>0</td>\n",
       "      <td>35800.0</td>\n",
       "      <td>848280.0</td>\n",
       "      <td>23881.63</td>\n",
       "    </tr>\n",
       "    <tr>\n",
       "      <td>1</td>\n",
       "      <td>36280.0</td>\n",
       "      <td>1080814.0</td>\n",
       "      <td>26855.11</td>\n",
       "    </tr>\n",
       "    <tr>\n",
       "      <td>2</td>\n",
       "      <td>35760.0</td>\n",
       "      <td>1108462.0</td>\n",
       "      <td>24173.67</td>\n",
       "    </tr>\n",
       "    <tr>\n",
       "      <td>3</td>\n",
       "      <td>37960.0</td>\n",
       "      <td>1478791.0</td>\n",
       "      <td>23421.84</td>\n",
       "    </tr>\n",
       "    <tr>\n",
       "      <td>4</td>\n",
       "      <td>38420.0</td>\n",
       "      <td>1900271.0</td>\n",
       "      <td>24372.17</td>\n",
       "    </tr>\n",
       "    <tr>\n",
       "      <td>5</td>\n",
       "      <td>37160.0</td>\n",
       "      <td>1886562.0</td>\n",
       "      <td>25428.86</td>\n",
       "    </tr>\n",
       "    <tr>\n",
       "      <td>6</td>\n",
       "      <td>40690.0</td>\n",
       "      <td>1449944.0</td>\n",
       "      <td>28632.92</td>\n",
       "    </tr>\n",
       "    <tr>\n",
       "      <td>7</td>\n",
       "      <td>41470.0</td>\n",
       "      <td>1495609.0</td>\n",
       "      <td>23247.43</td>\n",
       "    </tr>\n",
       "    <tr>\n",
       "      <td>8</td>\n",
       "      <td>36790.0</td>\n",
       "      <td>1924023.0</td>\n",
       "      <td>22590.86</td>\n",
       "    </tr>\n",
       "    <tr>\n",
       "      <td>9</td>\n",
       "      <td>44070.0</td>\n",
       "      <td>2182889.0</td>\n",
       "      <td>28883.42</td>\n",
       "    </tr>\n",
       "    <tr>\n",
       "      <td>10</td>\n",
       "      <td>41970.0</td>\n",
       "      <td>1654348.0</td>\n",
       "      <td>31148.66</td>\n",
       "    </tr>\n",
       "    <tr>\n",
       "      <td>11</td>\n",
       "      <td>39220.0</td>\n",
       "      <td>2849691.0</td>\n",
       "      <td>28846.48</td>\n",
       "    </tr>\n",
       "  </tbody>\n",
       "</table>\n",
       "</div>"
      ],
      "text/plain": [
       "      Users  Pageviews  Active Users\n",
       "0   35800.0   848280.0      23881.63\n",
       "1   36280.0  1080814.0      26855.11\n",
       "2   35760.0  1108462.0      24173.67\n",
       "3   37960.0  1478791.0      23421.84\n",
       "4   38420.0  1900271.0      24372.17\n",
       "5   37160.0  1886562.0      25428.86\n",
       "6   40690.0  1449944.0      28632.92\n",
       "7   41470.0  1495609.0      23247.43\n",
       "8   36790.0  1924023.0      22590.86\n",
       "9   44070.0  2182889.0      28883.42\n",
       "10  41970.0  1654348.0      31148.66\n",
       "11  39220.0  2849691.0      28846.48"
      ]
     },
     "execution_count": 16,
     "metadata": {},
     "output_type": "execute_result"
    }
   ],
   "source": [
    "test"
   ]
  },
  {
   "cell_type": "code",
   "execution_count": 15,
   "metadata": {},
   "outputs": [
    {
     "data": {
      "text/plain": [
       "Users           0.603282\n",
       "Pageviews       0.357676\n",
       "Active Users    1.000000\n",
       "Name: Active Users, dtype: float64"
      ]
     },
     "execution_count": 15,
     "metadata": {},
     "output_type": "execute_result"
    }
   ],
   "source": [
    "test=data.iloc[0:12, 1:]\n",
    "test.corr()['Active Users']"
   ]
  },
  {
   "cell_type": "code",
   "execution_count": 18,
   "metadata": {},
   "outputs": [],
   "source": [
    "'''split x and y into Numpy'''\n",
    "x= test[['Users', 'Pageviews']].to_numpy()\n",
    "y= test['Active Users'].to_numpy()\n"
   ]
  },
  {
   "cell_type": "code",
   "execution_count": 20,
   "metadata": {},
   "outputs": [
    {
     "name": "stdout",
     "output_type": "stream",
     "text": [
      "r2: -0.19816939779916942\n"
     ]
    }
   ],
   "source": [
    "#leave one out for LinearRegression , tempting to use users as x only \n",
    "loo = LeaveOneOut()\n",
    "y_true, y_pred = list(), list()\n",
    "for train_index, test_index in loo.split(x):\n",
    "    x_train, x_test = x[train_index, :], x[test_index,:]\n",
    "    y_train, y_test = y[train_index], y[test_index]\n",
    "    model= LinearRegression()\n",
    "    model.fit(x_train, y_train)\n",
    "    yhat= model.predict(x_test)\n",
    "    y_true.append(y_test[0])\n",
    "    y_pred.append(yhat[0])\n",
    "r2 = metrics.r2_score(y_true, y_pred)\n",
    "print ('r2:', r2)"
   ]
  },
  {
   "cell_type": "code",
   "execution_count": 22,
   "metadata": {},
   "outputs": [
    {
     "data": {
      "text/plain": [
       "array([28957.19337179, 27912.01637274, 28222.44735074, 28679.13714102,\n",
       "       28873.14398286, 29007.00145799, 31561.03561307, 31659.99868066,\n",
       "       28407.36012005, 33897.18723846, 31668.62458789, 27421.8251545 ])"
      ]
     },
     "execution_count": 22,
     "metadata": {},
     "output_type": "execute_result"
    }
   ],
   "source": [
    "model.predict(data[['Users', 'Pageviews' ]].loc[12:].to_numpy())"
   ]
  },
  {
   "cell_type": "code",
   "execution_count": 90,
   "metadata": {},
   "outputs": [],
   "source": []
  },
  {
   "cell_type": "code",
   "execution_count": 27,
   "metadata": {},
   "outputs": [
    {
     "name": "stdout",
     "output_type": "stream",
     "text": [
      "Cross-Predicted R2: -0.15246889598483437\n"
     ]
    },
    {
     "data": {
      "image/png": "[encoded data removed]",
      "text/plain": [
       "<Figure size 432x288 with 1 Axes>"
      ]
     },
     "metadata": {
      "needs_background": "light"
     },
     "output_type": "display_data"
    }
   ],
   "source": [
    "#6 fold cross valadition \n",
    "modeel=  LinearRegression()\n",
    "scores = cross_val_score(model, x, y, cv=6)\n",
    "predictions = cross_val_predict(model, x, y, cv=6)\n",
    "plt.scatter(y, predictions)\n",
    "r2 = metrics.r2_score(y, predictions)\n",
    "print ('Cross-Predicted R2:', r2)"
   ]
  },
  {
   "cell_type": "code",
   "execution_count": null,
   "metadata": {},
   "outputs": [],
   "source": []
  },
  {
   "cell_type": "code",
   "execution_count": null,
   "metadata": {},
   "outputs": [],
   "source": []
  },
  {
   "cell_type": "code",
   "execution_count": null,
   "metadata": {},
   "outputs": [],
   "source": []
  },
  {
   "cell_type": "code",
   "execution_count": null,
   "metadata": {},
   "outputs": [],
   "source": []
  },
  {
   "cell_type": "code",
   "execution_count": null,
   "metadata": {},
   "outputs": [],
   "source": []
  }
 ],
 "metadata": {
  "kernelspec": {
   "display_name": "Python 3",
   "language": "python",
   "name": "python3"
  },
  "language_info": {
   "codemirror_mode": {
    "name": "ipython",
    "version": 3
   },
   "file_extension": ".py",
   "mimetype": "text/x-python",
   "name": "python",
   "nbconvert_exporter": "python",
   "pygments_lexer": "ipython3",
   "version": "3.7.4"
  }
 },
 "nbformat": 4,
 "nbformat_minor": 2
}
