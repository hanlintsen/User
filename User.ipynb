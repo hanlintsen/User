{
 "cells": [
  {
   "cell_type": "code",
   "execution_count": 67,
   "metadata": {},
   "outputs": [],
   "source": [
    "import pandas as pd\n",
    "import numpy as np\n",
    "from sklearn.linear_model import LinearRegression\n",
    "from sklearn.linear_model import Lasso\n",
    "from sklearn.neighbors import KNeighborsRegressor\n",
    "from sklearn.model_selection import LeaveOneOut\n",
    "from sklearn.svm import SVR\n",
    "from sklearn.metrics import mean_squared_error, r2_score\n",
    "from matplotlib import pyplot as plt\n",
    "from sklearn import metrics\n",
    "from sklearn.model_selection import cross_val_score, cross_val_predict, KFold\n",
    "import statsmodels.api as sm\n",
    "from scipy import stats\n",
    "from sklearn.preprocessing import StandardScaler\n"
   ]
  },
  {
   "cell_type": "code",
   "execution_count": 68,
   "metadata": {
    "scrolled": false
   },
   "outputs": [],
   "source": [
    "data = pd.read_csv('active_user.csv', header = 0 )\n",
    "#standardize the x \n",
    "df = StandardScaler().fit_transform(data[['Users', 'Pageviews']])\n"
   ]
  },
  {
   "cell_type": "code",
   "execution_count": 94,
   "metadata": {},
   "outputs": [
    {
     "data": {
      "text/plain": [
       "Users           0.603282\n",
       "Pageviews       0.357676\n",
       "Active Users    1.000000\n",
       "Name: Active Users, dtype: float64"
      ]
     },
     "execution_count": 94,
     "metadata": {},
     "output_type": "execute_result"
    }
   ],
   "source": [
    "test=data.iloc[0:12, 1:]\n",
    "test.corr()['Active Users']"
   ]
  },
  {
   "cell_type": "code",
   "execution_count": 74,
   "metadata": {},
   "outputs": [
    {
     "data": {
      "text/plain": [
       "(array([[-1.47321101, -1.60767618],\n",
       "        [-1.35753116, -1.2155475 ],\n",
       "        [-1.482851  , -1.16892389],\n",
       "        [-0.95265168, -0.5444276 ],\n",
       "        [-0.84179183,  0.16632608],\n",
       "        [-1.14545143,  0.1432082 ],\n",
       "        [-0.29472254, -0.59307311],\n",
       "        [-0.10674278, -0.51606693],\n",
       "        [-1.23462132,  0.20637975],\n",
       "        [ 0.51985641,  0.64291283],\n",
       "        [ 0.01375707, -0.24838085],\n",
       "        [-0.64899208,  1.76735995]]),\n",
       " array([23881.63, 26855.11, 24173.67, 23421.84, 24372.17, 25428.86,\n",
       "        28632.92, 23247.43, 22590.86, 28883.42, 31148.66, 28846.48]))"
      ]
     },
     "execution_count": 74,
     "metadata": {},
     "output_type": "execute_result"
    }
   ],
   "source": [
    "'''split x and y into Numpy'''\n",
    "#x= test[['Users', 'Pageviews']].to_numpy()\n",
    "x = df[0:12]\n",
    "y = test['Active Users'].to_numpy()\n",
    "x, y"
   ]
  },
  {
   "cell_type": "code",
   "execution_count": 75,
   "metadata": {},
   "outputs": [
    {
     "name": "stdout",
     "output_type": "stream",
     "text": [
      "                            OLS Regression Results                            \n",
      "==============================================================================\n",
      "Dep. Variable:                      y   R-squared:                       0.375\n",
      "Model:                            OLS   Adj. R-squared:                  0.236\n",
      "Method:                 Least Squares   F-statistic:                     2.696\n",
      "Date:                Fri, 11 Sep 2020   Prob (F-statistic):              0.121\n",
      "Time:                        22:49:26   Log-Likelihood:                -109.00\n",
      "No. Observations:                  12   AIC:                             224.0\n",
      "Df Residuals:                       9   BIC:                             225.5\n",
      "Df Model:                           2                                         \n",
      "Covariance Type:            nonrobust                                         \n",
      "==============================================================================\n",
      "                 coef    std err          t      P>|t|      [0.025      0.975]\n",
      "------------------------------------------------------------------------------\n",
      "const       2.783e+04   1126.474     24.707      0.000    2.53e+04    3.04e+04\n",
      "x1          2381.6852   1263.820      1.885      0.092    -477.275    5240.645\n",
      "x2           353.0412    898.246      0.393      0.703   -1678.932    2385.015\n",
      "==============================================================================\n",
      "Omnibus:                        0.242   Durbin-Watson:                   1.476\n",
      "Prob(Omnibus):                  0.886   Jarque-Bera (JB):                0.397\n",
      "Skew:                          -0.220   Prob(JB):                        0.820\n",
      "Kurtosis:                       2.225   Cond. No.                         3.19\n",
      "==============================================================================\n",
      "\n",
      "Warnings:\n",
      "[1] Standard Errors assume that the covariance matrix of the errors is correctly specified.\n"
     ]
    },
    {
     "name": "stderr",
     "output_type": "stream",
     "text": [
      "C:\\Users\\linthan\\AppData\\Local\\Continuum\\anaconda3\\lib\\site-packages\\scipy\\stats\\stats.py:1450: UserWarning: kurtosistest only valid for n>=20 ... continuing anyway, n=12\n",
      "  \"anyway, n=%i\" % int(n))\n"
     ]
    }
   ],
   "source": [
    "X2 = sm.add_constant(x)\n",
    "est = sm.OLS(y, X2)\n",
    "est2 = est.fit()\n",
    "print(est2.summary())"
   ]
  },
  {
   "cell_type": "code",
   "execution_count": 93,
   "metadata": {
    "scrolled": true
   },
   "outputs": [
    {
     "name": "stdout",
     "output_type": "stream",
     "text": [
      "                            OLS Regression Results                            \n",
      "==============================================================================\n",
      "Dep. Variable:                      y   R-squared:                       0.364\n",
      "Model:                            OLS   Adj. R-squared:                  0.300\n",
      "Method:                 Least Squares   F-statistic:                     5.722\n",
      "Date:                Fri, 11 Sep 2020   Prob (F-statistic):             0.0378\n",
      "Time:                        23:12:51   Log-Likelihood:                -109.11\n",
      "No. Observations:                  12   AIC:                             222.2\n",
      "Df Residuals:                      10   BIC:                             223.2\n",
      "Df Model:                           1                                         \n",
      "Covariance Type:            nonrobust                                         \n",
      "==============================================================================\n",
      "                 coef    std err          t      P>|t|      [0.025      0.975]\n",
      "------------------------------------------------------------------------------\n",
      "const       2.791e+04   1061.737     26.285      0.000    2.55e+04    3.03e+04\n",
      "x1          2599.5246   1086.725      2.392      0.038     178.150    5020.899\n",
      "==============================================================================\n",
      "Omnibus:                        0.299   Durbin-Watson:                   1.404\n",
      "Prob(Omnibus):                  0.861   Jarque-Bera (JB):                0.375\n",
      "Skew:                          -0.289   Prob(JB):                        0.829\n",
      "Kurtosis:                       2.356   Cond. No.                         2.76\n",
      "==============================================================================\n",
      "\n",
      "Warnings:\n",
      "[1] Standard Errors assume that the covariance matrix of the errors is correctly specified.\n"
     ]
    },
    {
     "data": {
      "text/plain": [
       "array([27999.78277608, 27492.33023114, 27824.36708153, 28663.85647686,\n",
       "       29584.78887323, 29691.29125921, 31082.08712312, 31320.15128   ,\n",
       "       29246.48717661, 34032.82969924, 31577.00997559, 29785.26395271])"
      ]
     },
     "execution_count": 93,
     "metadata": {},
     "output_type": "execute_result"
    }
   ],
   "source": [
    "x_user= df[0:12,0]\n",
    "c_X_user = sm.add_constant(x_user)\n",
    "est_user = sm.OLS(y, c_X_user)\n",
    "est_user2 = est_user.fit()\n",
    "print(est_user2.summary())\n",
    "x_user_test = df[12:,0]\n",
    "c_X_user_test = sm.add_constant(x_user_test)\n",
    "y_predict = est_user2.predict(c_X_user_test)\n",
    "y_predict"
   ]
  },
  {
   "cell_type": "code",
   "execution_count": 86,
   "metadata": {},
   "outputs": [
    {
     "name": "stdout",
     "output_type": "stream",
     "text": [
      "                            OLS Regression Results                            \n",
      "==============================================================================\n",
      "Dep. Variable:                      y   R-squared:                       0.128\n",
      "Model:                            OLS   Adj. R-squared:                  0.041\n",
      "Method:                 Least Squares   F-statistic:                     1.467\n",
      "Date:                Fri, 11 Sep 2020   Prob (F-statistic):              0.254\n",
      "Time:                        23:01:12   Log-Likelihood:                -111.00\n",
      "No. Observations:                  12   AIC:                             226.0\n",
      "Df Residuals:                      10   BIC:                             227.0\n",
      "Df Model:                           1                                         \n",
      "Covariance Type:            nonrobust                                         \n",
      "==============================================================================\n",
      "                 coef    std err          t      P>|t|      [0.025      0.975]\n",
      "------------------------------------------------------------------------------\n",
      "const       2.623e+04    826.932     31.717      0.000    2.44e+04    2.81e+04\n",
      "x1          1095.4024    904.396      1.211      0.254    -919.718    3110.522\n",
      "==============================================================================\n",
      "Omnibus:                        0.793   Durbin-Watson:                   1.709\n",
      "Prob(Omnibus):                  0.673   Jarque-Bera (JB):                0.652\n",
      "Skew:                           0.477   Prob(JB):                        0.722\n",
      "Kurtosis:                       2.371   Cond. No.                         1.34\n",
      "==============================================================================\n",
      "\n",
      "Warnings:\n",
      "[1] Standard Errors assume that the covariance matrix of the errors is correctly specified.\n"
     ]
    }
   ],
   "source": [
    "x_page= df[0:12,1]\n",
    "c_X_page = sm.add_constant(x_page)\n",
    "est = sm.OLS(y, c_X_page)\n",
    "est2 = est.fit()\n",
    "print(est2.summary())"
   ]
  },
  {
   "cell_type": "code",
   "execution_count": 60,
   "metadata": {},
   "outputs": [
    {
     "name": "stdout",
     "output_type": "stream",
     "text": [
      "r2: 0.10499052559210564\n"
     ]
    }
   ],
   "source": [
    "#leave one out for LinearRegression , tempting to use users as x only \n",
    "loo = LeaveOneOut()\n",
    "y_true, y_pred = list(), list()\n",
    "for train_index, test_index in loo.split(x):\n",
    "    x_train, x_test = x[train_index, :], x[test_index,:]\n",
    "    #print ('Xtrain:' ,  x_train , \"X_Test:\", x_test)\n",
    "    y_train, y_test = y[train_index], y[test_index]\n",
    "    model= LinearRegression()\n",
    "    model.fit(x_train, y_train)\n",
    "    yhat= model.predict(x_test)\n",
    "    y_true.append(y_test[0])\n",
    "    y_pred.append(yhat[0])\n",
    "r2 = metrics.r2_score(y_true, y_pred)\n",
    "print ('r2:', r2)\n"
   ]
  },
  {
   "cell_type": "code",
   "execution_count": 22,
   "metadata": {},
   "outputs": [
    {
     "data": {
      "text/plain": [
       "array([28957.19337179, 27912.01637274, 28222.44735074, 28679.13714102,\n",
       "       28873.14398286, 29007.00145799, 31561.03561307, 31659.99868066,\n",
       "       28407.36012005, 33897.18723846, 31668.62458789, 27421.8251545 ])"
      ]
     },
     "execution_count": 22,
     "metadata": {},
     "output_type": "execute_result"
    }
   ],
   "source": [
    "model.predict(data[['Users', 'Pageviews' ]].loc[12:].to_numpy())"
   ]
  }
 ],
 "metadata": {
  "kernelspec": {
   "display_name": "Python 3",
   "language": "python",
   "name": "python3"
  },
  "language_info": {
   "codemirror_mode": {
    "name": "ipython",
    "version": 3
   },
   "file_extension": ".py",
   "mimetype": "text/x-python",
   "name": "python",
   "nbconvert_exporter": "python",
   "pygments_lexer": "ipython3",
   "version": "3.7.4"
  }
 },
 "nbformat": 4,
 "nbformat_minor": 2
}
